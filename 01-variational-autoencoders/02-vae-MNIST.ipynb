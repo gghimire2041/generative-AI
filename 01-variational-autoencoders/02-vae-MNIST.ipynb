{
 "cells": [
  {
   "cell_type": "markdown",
   "metadata": {},
   "source": [
    "## Variational Autoencoders (VAEs)\n",
    "\n",
    "Variational Autoencoders (VAEs) belong to the family of generative models in unsupervised learning. They learn to represent high-dimensional data in a lower-dimensional latent space, facilitating the generation of new data samples resembling those in the training set.\n",
    "\n",
    "### Components of a Variational Autoencoder:\n",
    "\n",
    "1. **Encoder Network:**\n",
    "   - Maps input data to a lower-dimensional latent space.\n",
    "   - Learns a probability distribution (often Gaussian) of latent variables from the input data.\n",
    "\n",
    "2. **Sampling from Latent Space:**\n",
    "   - Randomly samples from the learned probability distribution in the latent space.\n",
    "\n",
    "3. **Decoder Network:**\n",
    "   - Reconstructs the original input from the sampled latent space representation.\n",
    "   - Learns to recreate the input data.\n",
    "\n",
    "### Working Principle:\n",
    "\n",
    "- **Encoding:** Produces mean and variance parameters defining a probability distribution in the latent space.\n",
    "- **Sampling:** Draws random samples from this distribution.\n",
    "- **Decoding:** Attempts to reconstruct the original input from the sampled latent variables.\n",
    "- **Loss Function:** Minimizes reconstruction loss and encourages well-structured latent space with KL divergence loss.\n",
    "\n",
    "### Advantages and Applications:\n",
    "\n",
    "- **Generative Modeling:** Creates new samples resembling the training data.\n",
    "- **Representation Learning:** Learns meaningful data representations.\n",
    "- **Anomaly Detection:** Identifies outliers based on reconstruction error.\n",
    "- **Data Compression and Denoising:** Extracts compact representations while filtering out noise.\n",
    "\n",
    "### Challenges and Considerations:\n",
    "\n",
    "- **Complex Structures:** Difficulty in capturing intricate data distributions.\n",
    "- **Mode Collapse:** Generating similar samples due to oversimplified learned distributions.\n",
    "- **Latent Space Disentanglement:** Ensuring meaningful and separate features in the latent space.\n",
    "\n",
    "VAEs are powerful tools in generative modeling, capable of learning rich data representations and generating new samples resembling the training data. They find applications in image generation, language modeling, and data compression.\n"
   ]
  },
  {
   "cell_type": "markdown",
   "metadata": {},
   "source": [
    "#### The code has been adapted from the excellent VAE tutorial created by Francois Chollet, available on the Keras website."
   ]
  },
  {
   "cell_type": "markdown",
   "metadata": {},
   "source": [
    "#### Import Packages"
   ]
  },
  {
   "cell_type": "code",
   "execution_count": 2,
   "metadata": {},
   "outputs": [
    {
     "name": "stdout",
     "output_type": "stream",
     "text": [
      "WARNING:tensorflow:From d:\\Github Projects\\generative-AI\\gai\\lib\\site-packages\\keras\\src\\losses.py:2976: The name tf.losses.sparse_softmax_cross_entropy is deprecated. Please use tf.compat.v1.losses.sparse_softmax_cross_entropy instead.\n",
      "\n"
     ]
    }
   ],
   "source": [
    "%load_ext autoreload\n",
    "%autoreload 2\n",
    "\n",
    "import numpy as np\n",
    "import matplotlib.pyplot as plt\n",
    "\n",
    "import tensorflow as tf\n",
    "import tensorflow.keras.backend as K\n",
    "from tensorflow.keras import (\n",
    "    layers,\n",
    "    models,\n",
    "    datasets,\n",
    "    callbacks,\n",
    "    losses,\n",
    "    optimizers,\n",
    "    metrics,\n",
    ")\n",
    "\n",
    "from scipy.stats import norm"
   ]
  },
  {
   "cell_type": "code",
   "execution_count": null,
   "metadata": {},
   "outputs": [],
   "source": []
  }
 ],
 "metadata": {
  "kernelspec": {
   "display_name": "gai",
   "language": "python",
   "name": "python3"
  },
  "language_info": {
   "codemirror_mode": {
    "name": "ipython",
    "version": 3
   },
   "file_extension": ".py",
   "mimetype": "text/x-python",
   "name": "python",
   "nbconvert_exporter": "python",
   "pygments_lexer": "ipython3",
   "version": "3.10.11"
  }
 },
 "nbformat": 4,
 "nbformat_minor": 2
}
